{
  "nbformat": 4,
  "nbformat_minor": 0,
  "metadata": {
    "colab": {
      "name": "Untitled0.ipynb",
      "provenance": [],
      "collapsed_sections": [],
      "authorship_tag": "ABX9TyNtn/d3/aGDZ87JKbWOPj7s",
      "include_colab_link": true
    },
    "kernelspec": {
      "display_name": "Python 3",
      "name": "python3"
    }
  },
  "cells": [
    {
      "cell_type": "markdown",
      "metadata": {
        "id": "view-in-github",
        "colab_type": "text"
      },
      "source": [
        "<a href=\"https://colab.research.google.com/github/Amogh24/Fake_news/blob/main/Untitled0.ipynb\" target=\"_parent\"><img src=\"https://colab.research.google.com/assets/colab-badge.svg\" alt=\"Open In Colab\"/></a>"
      ]
    },
    {
      "cell_type": "code",
      "metadata": {
        "id": "Ziiso-5CKxBR"
      },
      "source": [
        "from google.colab import drive"
      ],
      "execution_count": 1,
      "outputs": []
    },
    {
      "cell_type": "code",
      "metadata": {
        "colab": {
          "base_uri": "https://localhost:8080/"
        },
        "id": "g0enhIZELEuE",
        "outputId": "60b502ab-428b-437e-b826-e1e53ee53b4d"
      },
      "source": [
        "drive.mount('/content/gdrive')\r\n"
      ],
      "execution_count": 2,
      "outputs": [
        {
          "output_type": "stream",
          "text": [
            "Mounted at /content/gdrive\n"
          ],
          "name": "stdout"
        }
      ]
    },
    {
      "cell_type": "code",
      "metadata": {
        "colab": {
          "base_uri": "https://localhost:8080/"
        },
        "id": "AuI3MxVBZfO0",
        "outputId": "5e280a8e-eb55-4055-a51a-6a075210a858"
      },
      "source": [
        "import sys\r\n",
        "import csv\r\n",
        "\r\n",
        "csv.field_size_limit(sys.maxsize)\r\n",
        "csv.field_size_limit(100000000)\r\n",
        "csv.field_size_limit(sys.maxsize)"
      ],
      "execution_count": 3,
      "outputs": [
        {
          "output_type": "execute_result",
          "data": {
            "text/plain": [
              "100000000"
            ]
          },
          "metadata": {
            "tags": []
          },
          "execution_count": 3
        }
      ]
    },
    {
      "cell_type": "code",
      "metadata": {
        "id": "kuOtcsmELZKS"
      },
      "source": [
        "import pandas as pd\r\n",
        "raw_news=pd.read_csv('/content/gdrive/MyDrive/fake-news/train.csv',engine='python')"
      ],
      "execution_count": 4,
      "outputs": []
    },
    {
      "cell_type": "code",
      "metadata": {
        "colab": {
          "base_uri": "https://localhost:8080/",
          "height": 202
        },
        "id": "vEF7OzmPZPqr",
        "outputId": "c766cd14-f92b-42cd-b85b-e96403c80466"
      },
      "source": [
        "raw_news.head()"
      ],
      "execution_count": 5,
      "outputs": [
        {
          "output_type": "execute_result",
          "data": {
            "text/html": [
              "<div>\n",
              "<style scoped>\n",
              "    .dataframe tbody tr th:only-of-type {\n",
              "        vertical-align: middle;\n",
              "    }\n",
              "\n",
              "    .dataframe tbody tr th {\n",
              "        vertical-align: top;\n",
              "    }\n",
              "\n",
              "    .dataframe thead th {\n",
              "        text-align: right;\n",
              "    }\n",
              "</style>\n",
              "<table border=\"1\" class=\"dataframe\">\n",
              "  <thead>\n",
              "    <tr style=\"text-align: right;\">\n",
              "      <th></th>\n",
              "      <th>id</th>\n",
              "      <th>title</th>\n",
              "      <th>author</th>\n",
              "      <th>text</th>\n",
              "      <th>label</th>\n",
              "    </tr>\n",
              "  </thead>\n",
              "  <tbody>\n",
              "    <tr>\n",
              "      <th>0</th>\n",
              "      <td>0</td>\n",
              "      <td>House Dem Aide: We Didn’t Even See Comey’s Let...</td>\n",
              "      <td>Darrell Lucus</td>\n",
              "      <td>House Dem Aide: We Didn’t Even See Comey’s Let...</td>\n",
              "      <td>1</td>\n",
              "    </tr>\n",
              "    <tr>\n",
              "      <th>1</th>\n",
              "      <td>1</td>\n",
              "      <td>FLYNN: Hillary Clinton, Big Woman on Campus - ...</td>\n",
              "      <td>Daniel J. Flynn</td>\n",
              "      <td>Ever get the feeling your life circles the rou...</td>\n",
              "      <td>0</td>\n",
              "    </tr>\n",
              "    <tr>\n",
              "      <th>2</th>\n",
              "      <td>2</td>\n",
              "      <td>Why the Truth Might Get You Fired</td>\n",
              "      <td>Consortiumnews.com</td>\n",
              "      <td>Why the Truth Might Get You Fired October 29, ...</td>\n",
              "      <td>1</td>\n",
              "    </tr>\n",
              "    <tr>\n",
              "      <th>3</th>\n",
              "      <td>3</td>\n",
              "      <td>15 Civilians Killed In Single US Airstrike Hav...</td>\n",
              "      <td>Jessica Purkiss</td>\n",
              "      <td>Videos 15 Civilians Killed In Single US Airstr...</td>\n",
              "      <td>1</td>\n",
              "    </tr>\n",
              "    <tr>\n",
              "      <th>4</th>\n",
              "      <td>4</td>\n",
              "      <td>Iranian woman jailed for fictional unpublished...</td>\n",
              "      <td>Howard Portnoy</td>\n",
              "      <td>Print \\nAn Iranian woman has been sentenced to...</td>\n",
              "      <td>1</td>\n",
              "    </tr>\n",
              "  </tbody>\n",
              "</table>\n",
              "</div>"
            ],
            "text/plain": [
              "   id  ... label\n",
              "0   0  ...     1\n",
              "1   1  ...     0\n",
              "2   2  ...     1\n",
              "3   3  ...     1\n",
              "4   4  ...     1\n",
              "\n",
              "[5 rows x 5 columns]"
            ]
          },
          "metadata": {
            "tags": []
          },
          "execution_count": 5
        }
      ]
    },
    {
      "cell_type": "code",
      "metadata": {
        "id": "QEoM-ig1Zy3v"
      },
      "source": [
        "true_raw_news=raw_news[raw_news['label']==0]"
      ],
      "execution_count": 6,
      "outputs": []
    },
    {
      "cell_type": "code",
      "metadata": {
        "colab": {
          "base_uri": "https://localhost:8080/",
          "height": 202
        },
        "id": "p28ny4xtaCYN",
        "outputId": "c6364817-5253-46c9-ac36-d513d917356b"
      },
      "source": [
        "true_raw_news.head()"
      ],
      "execution_count": 7,
      "outputs": [
        {
          "output_type": "execute_result",
          "data": {
            "text/html": [
              "<div>\n",
              "<style scoped>\n",
              "    .dataframe tbody tr th:only-of-type {\n",
              "        vertical-align: middle;\n",
              "    }\n",
              "\n",
              "    .dataframe tbody tr th {\n",
              "        vertical-align: top;\n",
              "    }\n",
              "\n",
              "    .dataframe thead th {\n",
              "        text-align: right;\n",
              "    }\n",
              "</style>\n",
              "<table border=\"1\" class=\"dataframe\">\n",
              "  <thead>\n",
              "    <tr style=\"text-align: right;\">\n",
              "      <th></th>\n",
              "      <th>id</th>\n",
              "      <th>title</th>\n",
              "      <th>author</th>\n",
              "      <th>text</th>\n",
              "      <th>label</th>\n",
              "    </tr>\n",
              "  </thead>\n",
              "  <tbody>\n",
              "    <tr>\n",
              "      <th>1</th>\n",
              "      <td>1</td>\n",
              "      <td>FLYNN: Hillary Clinton, Big Woman on Campus - ...</td>\n",
              "      <td>Daniel J. Flynn</td>\n",
              "      <td>Ever get the feeling your life circles the rou...</td>\n",
              "      <td>0</td>\n",
              "    </tr>\n",
              "    <tr>\n",
              "      <th>5</th>\n",
              "      <td>5</td>\n",
              "      <td>Jackie Mason: Hollywood Would Love Trump if He...</td>\n",
              "      <td>Daniel Nussbaum</td>\n",
              "      <td>In these trying times, Jackie Mason is the Voi...</td>\n",
              "      <td>0</td>\n",
              "    </tr>\n",
              "    <tr>\n",
              "      <th>7</th>\n",
              "      <td>7</td>\n",
              "      <td>Benoît Hamon Wins French Socialist Party’s Pre...</td>\n",
              "      <td>Alissa J. Rubin</td>\n",
              "      <td>PARIS  —   France chose an idealistic, traditi...</td>\n",
              "      <td>0</td>\n",
              "    </tr>\n",
              "    <tr>\n",
              "      <th>8</th>\n",
              "      <td>8</td>\n",
              "      <td>Excerpts From a Draft Script for Donald Trump’...</td>\n",
              "      <td>NaN</td>\n",
              "      <td>Donald J. Trump is scheduled to make a highly ...</td>\n",
              "      <td>0</td>\n",
              "    </tr>\n",
              "    <tr>\n",
              "      <th>9</th>\n",
              "      <td>9</td>\n",
              "      <td>A Back-Channel Plan for Ukraine and Russia, Co...</td>\n",
              "      <td>Megan Twohey and Scott Shane</td>\n",
              "      <td>A week before Michael T. Flynn resigned as nat...</td>\n",
              "      <td>0</td>\n",
              "    </tr>\n",
              "  </tbody>\n",
              "</table>\n",
              "</div>"
            ],
            "text/plain": [
              "   id  ... label\n",
              "1   1  ...     0\n",
              "5   5  ...     0\n",
              "7   7  ...     0\n",
              "8   8  ...     0\n",
              "9   9  ...     0\n",
              "\n",
              "[5 rows x 5 columns]"
            ]
          },
          "metadata": {
            "tags": []
          },
          "execution_count": 7
        }
      ]
    },
    {
      "cell_type": "code",
      "metadata": {
        "colab": {
          "base_uri": "https://localhost:8080/",
          "height": 202
        },
        "id": "wwfuxvyYbq-O",
        "outputId": "66201d51-7f8c-4f03-a13f-feb138ff3d75"
      },
      "source": [
        "fake_raw_news=raw_news[raw_news['label']==1]\r\n",
        "fake_raw_news.head()"
      ],
      "execution_count": 8,
      "outputs": [
        {
          "output_type": "execute_result",
          "data": {
            "text/html": [
              "<div>\n",
              "<style scoped>\n",
              "    .dataframe tbody tr th:only-of-type {\n",
              "        vertical-align: middle;\n",
              "    }\n",
              "\n",
              "    .dataframe tbody tr th {\n",
              "        vertical-align: top;\n",
              "    }\n",
              "\n",
              "    .dataframe thead th {\n",
              "        text-align: right;\n",
              "    }\n",
              "</style>\n",
              "<table border=\"1\" class=\"dataframe\">\n",
              "  <thead>\n",
              "    <tr style=\"text-align: right;\">\n",
              "      <th></th>\n",
              "      <th>id</th>\n",
              "      <th>title</th>\n",
              "      <th>author</th>\n",
              "      <th>text</th>\n",
              "      <th>label</th>\n",
              "    </tr>\n",
              "  </thead>\n",
              "  <tbody>\n",
              "    <tr>\n",
              "      <th>0</th>\n",
              "      <td>0</td>\n",
              "      <td>House Dem Aide: We Didn’t Even See Comey’s Let...</td>\n",
              "      <td>Darrell Lucus</td>\n",
              "      <td>House Dem Aide: We Didn’t Even See Comey’s Let...</td>\n",
              "      <td>1</td>\n",
              "    </tr>\n",
              "    <tr>\n",
              "      <th>2</th>\n",
              "      <td>2</td>\n",
              "      <td>Why the Truth Might Get You Fired</td>\n",
              "      <td>Consortiumnews.com</td>\n",
              "      <td>Why the Truth Might Get You Fired October 29, ...</td>\n",
              "      <td>1</td>\n",
              "    </tr>\n",
              "    <tr>\n",
              "      <th>3</th>\n",
              "      <td>3</td>\n",
              "      <td>15 Civilians Killed In Single US Airstrike Hav...</td>\n",
              "      <td>Jessica Purkiss</td>\n",
              "      <td>Videos 15 Civilians Killed In Single US Airstr...</td>\n",
              "      <td>1</td>\n",
              "    </tr>\n",
              "    <tr>\n",
              "      <th>4</th>\n",
              "      <td>4</td>\n",
              "      <td>Iranian woman jailed for fictional unpublished...</td>\n",
              "      <td>Howard Portnoy</td>\n",
              "      <td>Print \\nAn Iranian woman has been sentenced to...</td>\n",
              "      <td>1</td>\n",
              "    </tr>\n",
              "    <tr>\n",
              "      <th>6</th>\n",
              "      <td>6</td>\n",
              "      <td>Life: Life Of Luxury: Elton John’s 6 Favorite ...</td>\n",
              "      <td>NaN</td>\n",
              "      <td>Ever wonder how Britain’s most iconic pop pian...</td>\n",
              "      <td>1</td>\n",
              "    </tr>\n",
              "  </tbody>\n",
              "</table>\n",
              "</div>"
            ],
            "text/plain": [
              "   id  ... label\n",
              "0   0  ...     1\n",
              "2   2  ...     1\n",
              "3   3  ...     1\n",
              "4   4  ...     1\n",
              "6   6  ...     1\n",
              "\n",
              "[5 rows x 5 columns]"
            ]
          },
          "metadata": {
            "tags": []
          },
          "execution_count": 8
        }
      ]
    },
    {
      "cell_type": "code",
      "metadata": {
        "id": "PDy-4neFbyXV"
      },
      "source": [
        "import seaborn as sns\r\n",
        "import matplotlib.pyplot as plt\r\n"
      ],
      "execution_count": 9,
      "outputs": []
    },
    {
      "cell_type": "code",
      "metadata": {
        "colab": {
          "base_uri": "https://localhost:8080/",
          "height": 351
        },
        "id": "rF8QhMiHcLXn",
        "outputId": "3740454d-3c7d-45f1-c22e-56c431db7fdd"
      },
      "source": [
        "target = raw_news['label']\r\n",
        "sns.set_style('darkgrid')\r\n",
        "sns.countplot(target)"
      ],
      "execution_count": 10,
      "outputs": [
        {
          "output_type": "stream",
          "text": [
            "/usr/local/lib/python3.6/dist-packages/seaborn/_decorators.py:43: FutureWarning: Pass the following variable as a keyword arg: x. From version 0.12, the only valid positional argument will be `data`, and passing other arguments without an explicit keyword will result in an error or misinterpretation.\n",
            "  FutureWarning\n"
          ],
          "name": "stderr"
        },
        {
          "output_type": "execute_result",
          "data": {
            "text/plain": [
              "<matplotlib.axes._subplots.AxesSubplot at 0x7feb0eec6e80>"
            ]
          },
          "metadata": {
            "tags": []
          },
          "execution_count": 10
        },
        {
          "output_type": "display_data",
          "data": {
            "image/png": "[encoded data removed]",
            "text/plain": [
              "<Figure size 432x288 with 1 Axes>"
            ]
          },
          "metadata": {
            "tags": []
          }
        }
      ]
    },
    {
      "cell_type": "code",
      "metadata": {
        "id": "W7ZdSYEAgPW4"
      },
      "source": [
        "import torch"
      ],
      "execution_count": 12,
      "outputs": []
    },
    {
      "cell_type": "code",
      "metadata": {
        "id": "9d17Mi15F5ZE"
      },
      "source": [
        "import torchnlp\r\n"
      ],
      "execution_count": null,
      "outputs": []
    },
    {
      "cell_type": "code",
      "metadata": {
        "id": "e9z-xaG6Gnwf"
      },
      "source": [
        "import torchtext"
      ],
      "execution_count": 13,
      "outputs": []
    },
    {
      "cell_type": "code",
      "metadata": {
        "colab": {
          "base_uri": "https://localhost:8080/"
        },
        "id": "pDIXaFmX3Vnt",
        "outputId": "78ee354d-3eb7-4393-af1b-fb67869802d3"
      },
      "source": [
        "\r\n",
        "import string\r\n",
        "import nltk\r\n",
        "import re\r\n",
        "nltk.download('stopwords')\r\n",
        "nltk.download('wordnet')\r\n",
        "\r\n",
        "from nltk.corpus import stopwords\r\n",
        "from nltk.stem import WordNetLemmatizer\r\n",
        "\r\n",
        "lemmatizer = WordNetLemmatizer()\r\n",
        "\r\n",
        "punct = set(string.punctuation)\r\n",
        "\r\n",
        "stopwords = set(stopwords.words('english'))\r\n",
        "s=stopwords.union(punct)\r\n",
        "s=s.union('\\n')\r\n"
      ],
      "execution_count": 24,
      "outputs": [
        {
          "output_type": "stream",
          "text": [
            "[nltk_data] Downloading package stopwords to /root/nltk_data...\n",
            "[nltk_data]   Package stopwords is already up-to-date!\n",
            "[nltk_data] Downloading package wordnet to /root/nltk_data...\n",
            "[nltk_data]   Package wordnet is already up-to-date!\n"
          ],
          "name": "stdout"
        }
      ]
    },
    {
      "cell_type": "code",
      "metadata": {
        "id": "JjwjEtdWnRHm"
      },
      "source": [
        "from nltk.tokenize import RegexpTokenizer\r\n",
        "from nltk.stem.porter import PorterStemmer\r\n",
        "import pickle\r\n",
        "\r\n",
        "\r\n",
        "\r\n",
        "\r\n",
        "\r\n",
        "\r\n",
        "def getClearReview(reviews):\r\n",
        "    tokenizer = RegexpTokenizer(r'\\w+')\r\n",
        "    pickle_in = open('/content/gdrive/MyDrive/stopwords.pickle','rb')\r\n",
        "    en_stopwords = pickle.load(pickle_in) \r\n",
        "    pickle_in.close()\r\n",
        "    ps = PorterStemmer()\r\n",
        "    cleaned_data=[]\r\n",
        "    \r\n",
        "    for review in reviews:\r\n",
        "      review=review.lower()\r\n",
        "      review = review.replace(\"<br /><br />\",\" \")\r\n",
        "      tokens = tokenizer.tokenize(review)\r\n",
        "      new_tokens = [token for token in tokens if token.lower() not in en_stopwords]\r\n",
        "      cleaned_review = ' '.join(new_tokens)\r\n",
        "      cleaned_data.append(cleaned_review)\r\n",
        "\r\n",
        "    cleaned=[]\r\n",
        "    for str in cleaned_data:\r\n",
        "      if str!='':\r\n",
        "        cleaned.append(str)\r\n",
        "    \r\n",
        "    return cleaned"
      ],
      "execution_count": null,
      "outputs": []
    },
    {
      "cell_type": "code",
      "metadata": {
        "id": "wsRY2AElHKTg"
      },
      "source": [
        "import spacy\r\n",
        "spacy_en = spacy.load('en')\r\n",
        "\r\n",
        "def tokenizer(text): # create a tokenizer function\r\n",
        "\r\n",
        "    return [tok.text for tok in spacy_en.tokenizer(text)]\r\n",
        "\r\n",
        "#TEXT = torchtext.data.Field(preprocessing=getClearReview,sequential=True, lower=True,tokenize=tokenizer)\r\n",
        "TEXT = torchtext.data.Field(sequential=True, lower=True,tokenize=tokenizer,use_vocab=True,stop_words=s)\r\n",
        "LABEL = torchtext.data.Field(sequential=False, use_vocab=False)"
      ],
      "execution_count": 25,
      "outputs": []
    },
    {
      "cell_type": "code",
      "metadata": {
        "id": "pmobdrOfHoG-"
      },
      "source": [
        "fields = [(None, None),(None, None),(None, None), ('text',TEXT),('label', LABEL)]"
      ],
      "execution_count": 21,
      "outputs": []
    },
    {
      "cell_type": "code",
      "metadata": {
        "id": "40pI2kT-kgLD"
      },
      "source": [
        "training_data=torchtext.data.TabularDataset(path = '/content/gdrive/MyDrive/fake-news/train.csv',format = 'csv',fields = fields,skip_header = True)"
      ],
      "execution_count": 26,
      "outputs": []
    },
    {
      "cell_type": "code",
      "metadata": {
        "colab": {
          "base_uri": "https://localhost:8080/"
        },
        "id": "4s4o9aTJk7pI",
        "outputId": "ae44ca66-c2ba-4e81-acad-5645df72c66c"
      },
      "source": [
        "print(vars(training_data.examples[0]))"
      ],
      "execution_count": 27,
      "outputs": [
        {
          "output_type": "stream",
          "text": [
            "{'text': ['house', 'dem', 'aide', 'n’t', 'even', 'see', 'comey', '’s', 'letter', 'jason', 'chaffetz', 'tweeted', 'darrell', 'lucus', 'october', '30', '2016', 'subscribe', 'jason', 'chaffetz', 'stump', 'american', 'fork', 'utah', 'image', 'courtesy', 'michael', 'jolley', 'available', 'creative', 'commons', 'license', '\\n', 'apologies', 'keith', 'olbermann', 'doubt', 'worst', 'person', 'world', 'week', '–', 'fbi', 'director', 'james', 'comey', 'according', 'house', 'democratic', 'aide', 'looks', 'like', 'also', 'know', 'second', 'worst', 'person', 'well', 'turns', 'comey', 'sent', 'infamous', 'letter', 'announcing', 'fbi', 'looking', 'emails', 'may', 'related', 'hillary', 'clinton', '’s', 'email', 'server', 'ranking', 'democrats', 'relevant', 'committees', 'n’t', 'hear', 'comey', 'found', 'via', 'tweet', 'one', 'republican', 'committee', 'chairmen', '\\n', 'know', 'comey', 'notified', 'republican', 'chairmen', 'democratic', 'ranking', 'members', 'house', 'intelligence', 'judiciary', 'oversight', 'committees', 'agency', 'reviewing', 'emails', 'recently', 'discovered', 'order', 'see', 'contained', 'classified', 'information', 'long', 'letter', 'went', 'oversight', 'committee', 'chairman', 'jason', 'chaffetz', 'set', 'political', 'world', 'ablaze', 'tweet', 'fbi', 'dir', 'informed', 'fbi', 'learned', 'existence', 'emails', 'appear', 'pertinent', 'investigation', 'case', 'reopened', '\\n', '—', 'jason', 'chaffetz', '@jasoninthehouse', 'october', '28', '2016', '\\n', 'course', 'know', 'case', 'comey', 'actually', 'saying', 'reviewing', 'emails', 'light', '“', 'unrelated', 'case”–which', 'know', 'anthony', 'weiner', '’s', 'sexting', 'teenager', 'apparently', 'little', 'things', 'facts', 'n’t', 'matter', 'chaffetz', 'utah', 'republican', 'already', 'vowed', 'initiate', 'raft', 'investigations', 'hillary', 'wins', '–', 'least', 'two', 'years', '’', 'worth', 'possibly', 'entire', 'term', '’s', 'worth', 'apparently', 'chaffetz', 'thought', 'fbi', 'already', 'work', '–', 'resulting', 'tweet', 'briefly', 'roiled', 'nation', 'cooler', 'heads', 'realized', 'dud', '\\n', 'according', 'senior', 'house', 'democratic', 'aide', 'misreading', 'letter', 'may', 'least', 'chaffetz', '’', 'sins', 'aide', 'told', 'shareblue', 'boss', 'democrats', 'n’t', 'even', 'know', 'comey', '’s', 'letter', 'time', '–', 'found', 'checked', 'twitter', '“', 'democratic', 'ranking', 'members', 'relevant', 'committees', 'n’t', 'receive', 'comey', '’s', 'letter', 'republican', 'chairmen', 'fact', 'democratic', 'ranking', 'members', '’', 'receive', 'chairman', 'oversight', 'government', 'reform', 'committee', 'jason', 'chaffetz', 'tweeted', 'made', 'public', '”', '\\n', 'let', '’s', 'see', '’ve', 'got', 'right', 'fbi', 'director', 'tells', 'chaffetz', 'gop', 'committee', 'chairmen', 'major', 'development', 'potentially', 'politically', 'explosive', 'investigation', 'neither', 'chaffetz', 'colleagues', 'courtesy', 'let', 'democratic', 'counterparts', 'know', 'instead', 'according', 'aide', 'made', 'find', 'twitter', '\\n', 'already', 'talk', 'daily', 'kos', 'comey', 'provided', 'advance', 'notice', 'letter', 'chaffetz', 'republicans', 'giving', 'time', 'turn', 'spin', 'machine', 'may', 'make', 'good', 'theater', 'nothing', 'far', 'even', 'suggests', 'case', 'nothing', 'far', 'suggests', 'comey', 'anything', 'grossly', 'incompetent', 'tone', 'deaf', '\\n', 'suggest', 'however', 'chaffetz', 'acting', 'way', 'makes', 'dan', 'burton', 'darrell', 'issa', 'look', 'like', 'models', 'responsibility', 'bipartisanship', 'n’t', 'even', 'decency', 'notify', 'ranking', 'member', 'elijah', 'cummings', 'something', 'explosive', 'n’t', 'trample', 'basic', 'standards', 'fairness', 'n’t', 'know', '\\n', 'granted', '’s', 'likely', 'chaffetz', 'answer', 'sits', 'ridiculously', 'republican', 'district', 'anchored', 'provo', 'orem', 'cook', 'partisan', 'voting', 'index', 'r+25', 'gave', 'mitt', 'romney', 'punishing', '78', 'percent', 'vote', '2012', 'moreover', 'republican', 'house', 'leadership', 'given', 'full', 'support', 'chaffetz', '’', 'planned', 'fishing', 'expedition', 'n’t', 'mean', 'ca', 'n’t', 'turn', 'hot', 'lights', 'textbook', 'example', 'house', 'become', 'republican', 'control', 'also', 'second', 'worst', 'person', 'world', 'darrell', 'lucus', '\\n', 'darrell', '30-something', 'graduate', 'university', 'north', 'carolina', 'considers', 'journalist', 'old', 'school', 'attempt', 'turn', 'member', 'religious', 'right', 'college', 'succeeded', 'turning', 'religious', 'right', \"'s\", 'worst', 'nightmare', '--', 'charismatic', 'christian', 'unapologetic', 'liberal', 'desire', 'stand', 'scared', 'silence', 'increased', 'survived', 'abusive', 'three', 'year', 'marriage', 'may', 'know', 'daily', 'kos', 'christian', 'dem', 'nc', 'follow', 'twitter', '@darrelllucus', 'connect', 'facebook', 'click', 'buy', 'darrell', 'mello', 'yello', 'connect'], 'label': '1'}\n"
          ],
          "name": "stdout"
        }
      ]
    },
    {
      "cell_type": "code",
      "metadata": {
        "id": "ORvmBwKR9V4U"
      },
      "source": [
        "TEXT.build_vocab(train, vectors=\"glove.6B.100d\")"
      ],
      "execution_count": null,
      "outputs": []
    }
  ]
}